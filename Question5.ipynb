{
 "cells": [
  {
   "cell_type": "code",
   "execution_count": null,
   "id": "8c2fcce6-d890-4017-8ced-60f0b6919004",
   "metadata": {},
   "outputs": [],
   "source": []
  }
 ],
 "metadata": {
  "kernelspec": {
   "display_name": "",
   "name": ""
  },
  "language_info": {
   "name": ""
  }
 },
 "nbformat": 4,
 "nbformat_minor": 5
}
